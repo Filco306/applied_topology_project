{
 "cells": [
  {
   "cell_type": "code",
   "execution_count": null,
   "metadata": {},
   "outputs": [],
   "source": []
  },
  {
   "cell_type": "code",
   "execution_count": 1,
   "metadata": {},
   "outputs": [],
   "source": [
    "from graph import *\n",
    "from notebook_helpers import *\n",
    "import gensim"
   ]
  },
  {
   "cell_type": "code",
   "execution_count": 16,
   "metadata": {},
   "outputs": [],
   "source": [
    "import igraph as ig"
   ]
  },
  {
   "cell_type": "code",
   "execution_count": 42,
   "metadata": {},
   "outputs": [],
   "source": [
    "model = gensim.models.KeyedVectors.load_word2vec_format('/home/tadas/GoogleNews-vectors-negative300.bin', binary=True)"
   ]
  },
  {
   "cell_type": "code",
   "execution_count": 3,
   "metadata": {},
   "outputs": [],
   "source": [
    "file = '/home/tadas/words.txt'"
   ]
  },
  {
   "cell_type": "code",
   "execution_count": 50,
   "metadata": {},
   "outputs": [],
   "source": [
    "df, matrix = get_dist_matrix(model, model_type='word2vec', distance='arccos', file=file)"
   ]
  },
  {
   "cell_type": "code",
   "execution_count": 21,
   "metadata": {},
   "outputs": [],
   "source": [
    "def create_graph(matrix, epsilon, df):\n",
    "    matrix = np.logical_and(matrix <= epsilon, matrix != 0)\n",
    "    edges = np.argwhere(matrix == True)\n",
    "    \n",
    "    graph = ig.Graph()\n",
    "    graph.add_vertices(matrix.shape[0])\n",
    "    graph.add_edges(edges)\n",
    "    graph.vs['word'] = df[0]\n",
    "    return graph"
   ]
  },
  {
   "cell_type": "code",
   "execution_count": 38,
   "metadata": {},
   "outputs": [],
   "source": [
    "def plot(graph, filename):\n",
    "    labels = list(graph.vs['word'])\n",
    "    N = len(labels)\n",
    "    E = [e.tuple for e in graph.es] # list of edges\n",
    "    layt = graph.layout('kk') #kamada-kawai layout\n",
    "    \n",
    "    Xn=[layt[k][0] for k in range(N)]\n",
    "    Yn=[layt[k][1] for k in range(N)]\n",
    "    Xe=[]\n",
    "    Ye=[]\n",
    "    for e in E:\n",
    "        Xe+=[layt[e[0]][0],layt[e[1]][0], None]\n",
    "        Ye+=[layt[e[0]][1],layt[e[1]][1], None] \n",
    "\n",
    "    trace1=go.Scatter(x=Xe,\n",
    "                   y=Ye,\n",
    "                   mode='lines',\n",
    "                   line=go.Line(color='rgb(210,210,210)', width=1),\n",
    "                   hoverinfo='none'\n",
    "                   )\n",
    "    trace2=go.Scatter(x=Xn,\n",
    "                   y=Yn,\n",
    "                   mode='markers',\n",
    "                   name='ntw',\n",
    "                   marker=go.Marker(symbol='dot',\n",
    "                                 size=5, \n",
    "                                 color='#6959CD',\n",
    "                                 line=go.Line(color='rgb(50,50,50)', width=0.5)\n",
    "                                 ),\n",
    "                   text=labels,\n",
    "                   hoverinfo='text'\n",
    "                   )\n",
    "\n",
    "    axis=dict(showline=False, # hide axis line, grid, ticklabels and  title\n",
    "              zeroline=False,\n",
    "              showgrid=False,\n",
    "              showticklabels=False,\n",
    "              title='' \n",
    "              )\n",
    "\n",
    "    width=800\n",
    "    height=800\n",
    "    layout=go.Layout(title= filename,  \n",
    "        font= go.Font(size=12),\n",
    "        showlegend=False,\n",
    "        autosize=False,\n",
    "        width=width,\n",
    "        height=height,\n",
    "        xaxis=go.XAxis(axis),\n",
    "        yaxis=go.YAxis(axis),          \n",
    "        margin=go.Margin(\n",
    "            l=40,\n",
    "            r=40,\n",
    "            b=85,\n",
    "            t=100,\n",
    "        ),\n",
    "        hovermode='closest',\n",
    "        annotations=go.Annotations([\n",
    "               go.Annotation(\n",
    "               showarrow=False, \n",
    "                text='This igraph.Graph has the Kamada-Kawai layout',  \n",
    "                xref='paper',     \n",
    "                yref='paper',     \n",
    "                x=0,  \n",
    "                y=-0.1,  \n",
    "                xanchor='left',   \n",
    "                yanchor='bottom',  \n",
    "                font=go.Font(\n",
    "                size=14 \n",
    "                )     \n",
    "                )\n",
    "            ]),           \n",
    "        )\n",
    "\n",
    "    data=go.Data([trace1, trace2])\n",
    "    fig=go.Figure(data=data, layout=layout)\n",
    "    py.plot(fig, filename=filename)"
   ]
  },
  {
   "cell_type": "code",
   "execution_count": 28,
   "metadata": {},
   "outputs": [],
   "source": [
    "gr = create_graph(matrix, 3, df)"
   ]
  },
  {
   "cell_type": "code",
   "execution_count": 39,
   "metadata": {},
   "outputs": [],
   "source": [
    "plot(gr, 'Word2vec_euclidean_3')"
   ]
  },
  {
   "cell_type": "code",
   "execution_count": 59,
   "metadata": {},
   "outputs": [],
   "source": [
    "epsilon = 76\n",
    "gr = create_graph(matrix, epsilon, df)\n",
    "plot(gr, 'Word2vec_arccos_{0}'.format(epsilon))"
   ]
  },
  {
   "cell_type": "code",
   "execution_count": null,
   "metadata": {},
   "outputs": [],
   "source": []
  }
 ],
 "metadata": {
  "kernelspec": {
   "display_name": "Python 3",
   "language": "python",
   "name": "python3"
  },
  "language_info": {
   "codemirror_mode": {
    "name": "ipython",
    "version": 3
   },
   "file_extension": ".py",
   "mimetype": "text/x-python",
   "name": "python",
   "nbconvert_exporter": "python",
   "pygments_lexer": "ipython3",
   "version": "3.5.2"
  }
 },
 "nbformat": 4,
 "nbformat_minor": 2
}
