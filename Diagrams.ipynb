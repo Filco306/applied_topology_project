{
 "cells": [
  {
   "cell_type": "code",
   "execution_count": 1,
   "metadata": {},
   "outputs": [],
   "source": [
    "from graph import DataGraph\n",
    "from collections import defaultdict\n",
    "\n",
    "import numpy as np\n",
    "import pandas as pd\n",
    "import gensim\n",
    "# import spacy\n",
    "import plotly\n",
    "import plotly.plotly as py\n",
    "import plotly.graph_objs as go\n",
    "import math\n",
    "import scipy.spatial.distance as dist"
   ]
  },
  {
   "cell_type": "code",
   "execution_count": 2,
   "metadata": {},
   "outputs": [],
   "source": [
    "plotly.tools.set_credentials_file(username='tadas.t', api_key='Ngz5K6kLcZm19NzZxH9b')"
   ]
  },
  {
   "cell_type": "code",
   "execution_count": 3,
   "metadata": {},
   "outputs": [],
   "source": [
    "def get_word_clusters(df, dg):\n",
    "    new_clusters = []                               \n",
    "    for cluster in dg.clusters:  \n",
    "        cluster, hom = cluster                                                                  \n",
    "        new_cluster = [df[0][x] for x in cluster]\n",
    "        new_clusters.append((new_cluster, hom[:10]))\n",
    "    return new_clusters"
   ]
  },
  {
   "cell_type": "code",
   "execution_count": 4,
   "metadata": {},
   "outputs": [],
   "source": [
    "GOOD_TYPES = ['word2vec', 'glove']\n",
    "def get_wordvec(word, model, model_type):\n",
    "    if model_type not in GOOD_TYPES:\n",
    "        raise ValueError('bad model type')\n",
    "    if model_type == 'word2vec':\n",
    "        return model[word]\n",
    "    if model_type == 'glove':\n",
    "        return model(word).vector"
   ]
  },
  {
   "cell_type": "code",
   "execution_count": 5,
   "metadata": {},
   "outputs": [],
   "source": [
    "def get_arccosdist_matrix(model, model_type):\n",
    "#     USES ARCCOS-DIST\n",
    "    df = pd.read_csv('/home/tadas/words_smaller.txt')\n",
    "    df = pd.DataFrame(data=list(set(list(df['word']))))\n",
    "\n",
    "    distance_matrix = []\n",
    "\n",
    "    for word in df[0]:\n",
    "        vector = get_wordvec(word, model, model_type)\n",
    "        row = []\n",
    "        for word_2 in df[0]:\n",
    "            if word == word_2:\n",
    "                row.append(0)\n",
    "                continue\n",
    "            vector_2 = get_wordvec(word_2, model, model_type)\n",
    "            distance = math.degrees(np.arccos(1 - dist.cosine(vector, vector_2)))\n",
    "            row.append(distance)\n",
    "        distance_matrix.append(row)\n",
    "\n",
    "    distance_matrix = np.array(distance_matrix)\n",
    "    return df, distance_matrix"
   ]
  },
  {
   "cell_type": "code",
   "execution_count": 6,
   "metadata": {},
   "outputs": [],
   "source": [
    "def get_euclidean_matrix(model, model_type):\n",
    "#     USES EUCLIDEAN DISTANCE\n",
    "    df = pd.read_csv('/home/tadas/words_smaller.txt')\n",
    "    df = pd.DataFrame(data=list(set(list(df['word']))))\n",
    "\n",
    "    distance_matrix = []\n",
    "\n",
    "    for word in df[0]:\n",
    "        vector = get_wordvec(word, model, model_type)\n",
    "        row = []\n",
    "        for word_2 in df[0]:\n",
    "            if word == word_2:\n",
    "                row.append(0)\n",
    "                continue\n",
    "            vector_2 = get_wordvec(word_2, model, model_type)\n",
    "            distance = np.linalg.norm(vector - vector_2)\n",
    "            row.append(distance)\n",
    "        distance_matrix.append(row)\n",
    "\n",
    "    distance_matrix = np.array(distance_matrix)\n",
    "    return df, distance_matrix"
   ]
  },
  {
   "cell_type": "code",
   "execution_count": 7,
   "metadata": {},
   "outputs": [],
   "source": [
    "def produce_data(df, matrix, start, end, step):\n",
    "    cluster_list = []\n",
    "    for epsilon in np.arange(start, end, step):\n",
    "        dg = DataGraph(matrix, epsilon, 300)\n",
    "        print('Started clustering {0}'.format(epsilon))\n",
    "        dg.cluster(report_homology=True)\n",
    "        clusters = get_word_clusters(df, dg)\n",
    "        cluster_list.append(clusters)\n",
    "    return cluster_list"
   ]
  },
  {
   "cell_type": "code",
   "execution_count": 8,
   "metadata": {},
   "outputs": [],
   "source": [
    "def prepare_data(cluster_list):\n",
    "    word_y_values = defaultdict(list)\n",
    "    word_homologies = defaultdict(list)\n",
    "\n",
    "    for clusters in cluster_list:\n",
    "        for i, stuff in enumerate(clusters):\n",
    "            cluster, homology = stuff\n",
    "            for word in cluster:\n",
    "                word_y_values[word].append(i)\n",
    "                word_homologies[word].append(homology)\n",
    "    return word_y_values, word_homologies"
   ]
  },
  {
   "cell_type": "code",
   "execution_count": 9,
   "metadata": {},
   "outputs": [],
   "source": [
    "def plot_data(relevant_words, x_values, word_y_values, word_homologies, filename, title):\n",
    "    data = []\n",
    "    for word in relevant_words:\n",
    "        trace = go.Scatter(\n",
    "            x = x_values,\n",
    "            y = word_y_values[word],\n",
    "            text = [str(x) for x in word_homologies[word]],\n",
    "            name = word,\n",
    "            hoverinfo='text+name'\n",
    "        )\n",
    "        data.append(trace)\n",
    "\n",
    "\n",
    "    layout= go.Layout(\n",
    "        title= title,\n",
    "        hovermode= 'x',\n",
    "        xaxis= dict(\n",
    "            title= 'Angle',\n",
    "            ticklen= 5,\n",
    "            zeroline= False,\n",
    "            gridwidth= 2,\n",
    "        ),\n",
    "        yaxis=dict(\n",
    "            title= 'Words',\n",
    "            ticklen= 5,\n",
    "            gridwidth= 2,\n",
    "        ),\n",
    "        showlegend= False\n",
    "    )\n",
    "\n",
    "    fig= go.Figure(data=data, layout=layout)\n",
    "    py.plot(fig, filename=filename)"
   ]
  },
  {
   "cell_type": "code",
   "execution_count": 10,
   "metadata": {},
   "outputs": [],
   "source": [
    "model = gensim.models.KeyedVectors.load_word2vec_format('/home/tadas/GoogleNews-vectors-negative300.bin', binary=True)\n",
    "# model = spacy.load('en_vectors_glove_md')\n",
    "df, matrix = get_euclidean_matrix(model, model_type='word2vec')\n",
    "# start = 40\n",
    "# stop = 72\n",
    "# step = 2\n",
    "# cluster_list = produce_data(df, matrix, start, stop, step)\n",
    "# word_y_values, word_homologies = prepare_data(cluster_list)\n",
    "# plot_data(list(range(start,stop,step)), word_y_values, word_homologies, 'word2vec_{0}_{1}_{2}'.format(start, stop, step))"
   ]
  },
  {
   "cell_type": "code",
   "execution_count": 11,
   "metadata": {},
   "outputs": [
    {
     "data": {
      "text/plain": [
       "6.2600741386413574"
      ]
     },
     "execution_count": 11,
     "metadata": {},
     "output_type": "execute_result"
    }
   ],
   "source": [
    "np.max(matrix)"
   ]
  },
  {
   "cell_type": "code",
   "execution_count": 12,
   "metadata": {},
   "outputs": [
    {
     "data": {
      "text/plain": [
       "4.1030439713147242"
      ]
     },
     "execution_count": 12,
     "metadata": {},
     "output_type": "execute_result"
    }
   ],
   "source": [
    "np.mean(matrix)"
   ]
  },
  {
   "cell_type": "code",
   "execution_count": 13,
   "metadata": {},
   "outputs": [
    {
     "data": {
      "text/plain": [
       "0.63930167263783655"
      ]
     },
     "execution_count": 13,
     "metadata": {},
     "output_type": "execute_result"
    }
   ],
   "source": [
    "np.std(matrix)"
   ]
  },
  {
   "cell_type": "code",
   "execution_count": 11,
   "metadata": {},
   "outputs": [
    {
     "name": "stdout",
     "output_type": "stream",
     "text": [
      "Started clustering 1.0\n",
      "Started clustering 1.5\n",
      "Started clustering 2.0\n",
      "Started clustering 2.5\n",
      "Started clustering 3.0\n"
     ]
    }
   ],
   "source": [
    "start = 1\n",
    "stop = 3.5\n",
    "step = 0.5\n",
    "cluster_list = produce_data(df, matrix, start, stop, step)\n",
    "word_y_values, word_homologies = prepare_data(cluster_list)"
   ]
  },
  {
   "cell_type": "code",
   "execution_count": 18,
   "metadata": {},
   "outputs": [],
   "source": [
    "relevant_words = ['riverfront',\n",
    "   'oceanfront',\n",
    "   'reef',\n",
    "   'cay',\n",
    "   'beach',\n",
    "   'shore',\n",
    "   'coast',\n",
    "   'seaboard',\n",
    "   'river',\n",
    "   'hill',\n",
    "   'incline',\n",
    "   'camber',\n",
    "   'bend',\n",
    "   'slope',\n",
    "   'ledge',\n",
    "   'embankment',\n",
    "   'levee',\n",
    "   'reservoir',\n",
    "   'cliff',\n",
    "   'mound',\n",
    "   'pitch',\n",
    "   'field',\n",
    "   'riverside',\n",
    "   'lakeshore',\n",
    "   'lakeside',\n",
    "   'seafront',\n",
    "   'waterfront',\n",
    "   'lakefront']"
   ]
  },
  {
   "cell_type": "code",
   "execution_count": 19,
   "metadata": {},
   "outputs": [],
   "source": [
    "plot_data(relevant_words, list(np.arange(start,stop,step)), word_y_values, word_homologies, \n",
    "          'word2vec_{0}_{1}_{2}_nature-euclidean'.format(start, stop, step), \n",
    "          title='Word2vec nature related words - Euclidean distance')"
   ]
  },
  {
   "cell_type": "code",
   "execution_count": null,
   "metadata": {},
   "outputs": [],
   "source": []
  }
 ],
 "metadata": {
  "kernelspec": {
   "display_name": "Python 3",
   "language": "python",
   "name": "python3"
  },
  "language_info": {
   "codemirror_mode": {
    "name": "ipython",
    "version": 3
   },
   "file_extension": ".py",
   "mimetype": "text/x-python",
   "name": "python",
   "nbconvert_exporter": "python",
   "pygments_lexer": "ipython3",
   "version": "3.5.2"
  }
 },
 "nbformat": 4,
 "nbformat_minor": 2
}
