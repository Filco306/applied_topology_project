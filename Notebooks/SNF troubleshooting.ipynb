{
 "cells": [
  {
   "cell_type": "code",
   "execution_count": 1,
   "metadata": {},
   "outputs": [],
   "source": [
    "from snf import *\n",
    "\n",
    "import numpy as np\n",
    "\n",
    "from datetime import datetime"
   ]
  },
  {
   "cell_type": "markdown",
   "metadata": {},
   "source": [
    "a matrix 500 by 500 of 0 and 1 takes on average 13.5sec to put into SNF\n",
    "a matrix 700 by 700 of 0 and 1 takes on average 31.8sec to put into SNF\n",
    "a matrix 900 by 900 of 0 and 1 takes on average 66sec to put into SNF\n",
    "a matrix 1000 by 1000 of 0 and 1 takes on average 72sec to put into SNF"
   ]
  },
  {
   "cell_type": "code",
   "execution_count": 2,
   "metadata": {},
   "outputs": [],
   "source": [
    "# times = []\n",
    "# for i in range(20):\n",
    "#     matrix = np.random.random_integers(0, 1, (757,966))\n",
    "#     start = datetime.now()\n",
    "#     put_in_snf(matrix)\n",
    "#     end = datetime.now()\n",
    "#     duration = (end - start).total_seconds()\n",
    "#     print(duration)\n",
    "#     times.append(duration)"
   ]
  },
  {
   "cell_type": "code",
   "execution_count": 22,
   "metadata": {
    "scrolled": false
   },
   "outputs": [
    {
     "name": "stderr",
     "output_type": "stream",
     "text": [
      "/home/tadas/.virtualenvs/lochom/lib/python3.5/site-packages/ipykernel_launcher.py:3: DeprecationWarning: This function is deprecated. Please call randint(0, 1 + 1) instead\n",
      "  This is separate from the ipykernel package so we can avoid doing imports until\n"
     ]
    },
    {
     "name": "stdout",
     "output_type": "stream",
     "text": [
      "3.420304\n",
      "3.408469\n",
      "3.8739\n",
      "3.319832\n",
      "3.462945\n",
      "3.504714\n",
      "3.608053\n",
      "3.541104\n",
      "3.793717\n",
      "4.172345\n",
      "3.764023\n",
      "3.80441\n",
      "3.69006\n",
      "3.891964\n",
      "3.647323\n",
      "3.330608\n",
      "3.789759\n",
      "3.718229\n",
      "3.856039\n",
      "3.727338\n"
     ]
    }
   ],
   "source": [
    "times = []\n",
    "for i in range(20):\n",
    "    matrix = np.random.random_integers(0, 1, (1000, 1000))\n",
    "    start = datetime.now()\n",
    "    reduce_matrix(matrix)\n",
    "    end = datetime.now()\n",
    "    duration = (end - start).total_seconds()\n",
    "    print(duration)\n",
    "    times.append(duration)"
   ]
  },
  {
   "cell_type": "code",
   "execution_count": 17,
   "metadata": {},
   "outputs": [
    {
     "name": "stderr",
     "output_type": "stream",
     "text": [
      "/home/tadas/.virtualenvs/lochom/lib/python3.5/site-packages/ipykernel_launcher.py:2: DeprecationWarning: This function is deprecated. Please call randint(0, 1 + 1) instead\n",
      "  \n"
     ]
    },
    {
     "name": "stdout",
     "output_type": "stream",
     "text": [
      "True\n",
      "True\n",
      "True\n",
      "True\n",
      "True\n",
      "True\n",
      "True\n",
      "True\n",
      "True\n",
      "True\n",
      "True\n",
      "True\n",
      "True\n",
      "True\n",
      "True\n",
      "True\n",
      "True\n",
      "True\n",
      "True\n",
      "True\n"
     ]
    }
   ],
   "source": [
    "for i in range(20):\n",
    "    matrix = np.random.random_integers(0, 1, (100,200))\n",
    "    matrix2 = matrix.copy()\n",
    "    put_in_snf(matrix2)\n",
    "    matrix, _, _ = reduce_matrix(matrix)\n",
    "    print(np.array_equal(matrix, matrix2 % 2))"
   ]
  },
  {
   "cell_type": "code",
   "execution_count": 17,
   "metadata": {},
   "outputs": [
    {
     "name": "stderr",
     "output_type": "stream",
     "text": [
      "/home/tadas/.virtualenvs/lochom/lib/python3.5/site-packages/ipykernel_launcher.py:3: DeprecationWarning: This function is deprecated. Please call randint(0, 1 + 1) instead\n",
      "  This is separate from the ipykernel package so we can avoid doing imports until\n"
     ]
    },
    {
     "name": "stdout",
     "output_type": "stream",
     "text": [
      "True\n",
      "True\n",
      "True\n",
      "True\n",
      "True\n",
      "True\n",
      "True\n",
      "True\n",
      "True\n",
      "True\n",
      "True\n",
      "True\n",
      "True\n",
      "True\n",
      "True\n",
      "True\n",
      "True\n",
      "True\n",
      "True\n",
      "True\n",
      "True\n",
      "True\n",
      "True\n",
      "True\n",
      "True\n",
      "True\n",
      "True\n",
      "True\n",
      "True\n",
      "True\n",
      "True\n",
      "True\n",
      "True\n",
      "True\n",
      "True\n",
      "True\n",
      "True\n",
      "True\n",
      "True\n",
      "True\n",
      "True\n",
      "True\n",
      "True\n",
      "True\n",
      "True\n",
      "True\n",
      "True\n",
      "True\n",
      "True\n",
      "True\n",
      "True\n",
      "True\n",
      "True\n",
      "True\n",
      "True\n",
      "True\n",
      "True\n",
      "True\n",
      "True\n",
      "True\n",
      "True\n",
      "True\n",
      "True\n",
      "True\n",
      "True\n",
      "True\n",
      "True\n",
      "True\n",
      "True\n",
      "True\n",
      "True\n",
      "True\n",
      "True\n",
      "True\n",
      "True\n",
      "True\n",
      "True\n",
      "True\n",
      "True\n",
      "True\n",
      "True\n",
      "True\n",
      "True\n",
      "True\n",
      "True\n",
      "True\n",
      "True\n",
      "True\n",
      "True\n",
      "True\n",
      "True\n",
      "True\n",
      "True\n",
      "True\n",
      "True\n",
      "True\n",
      "True\n",
      "True\n",
      "True\n",
      "True\n"
     ]
    }
   ],
   "source": [
    "truth = []\n",
    "for i in range(100):\n",
    "    matrix = np.random.random_integers(0, 1, (100,250))\n",
    "    matrix_2 = matrix.copy()\n",
    "    x,y,z = reduce_matrix(matrix)\n",
    "    a,b,c = reduce_matrix_iter(matrix_2)\n",
    "    print(np.array_equal(a,x))\n",
    "    truth.append(np.array_equal(a,x))"
   ]
  }
 ],
 "metadata": {
  "kernelspec": {
   "display_name": "Python 3",
   "language": "python",
   "name": "python3"
  },
  "language_info": {
   "codemirror_mode": {
    "name": "ipython",
    "version": 3
   },
   "file_extension": ".py",
   "mimetype": "text/x-python",
   "name": "python",
   "nbconvert_exporter": "python",
   "pygments_lexer": "ipython3",
   "version": "3.5.2"
  }
 },
 "nbformat": 4,
 "nbformat_minor": 2
}
