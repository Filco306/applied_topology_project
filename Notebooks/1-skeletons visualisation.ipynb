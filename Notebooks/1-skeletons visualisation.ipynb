{
 "cells": [
  {
   "cell_type": "code",
   "execution_count": 1,
   "metadata": {},
   "outputs": [],
   "source": [
    "from manager import DatasetManager\n",
    "from notebook_helpers import setup_plotly"
   ]
  },
  {
   "cell_type": "code",
   "execution_count": 2,
   "metadata": {},
   "outputs": [],
   "source": [
    "import pandas as pd\n",
    "import numpy as np\n",
    "import networkx as nx\n",
    "import scipy.spatial.distance as dist\n",
    "import math\n",
    "import plotly.plotly as py\n",
    "from plotly.graph_objs import *"
   ]
  },
  {
   "cell_type": "code",
   "execution_count": 50,
   "metadata": {},
   "outputs": [],
   "source": [
    "df = pd.read_csv('words_df.csv')\n",
    "df[0] = df[\"0\"]\n",
    "del df['Unnamed: 0'], df[\"0\"]\n",
    "vertices = np.loadtxt('word2vec_data.txt')\n",
    "setup_plotly()"
   ]
  },
  {
   "cell_type": "code",
   "execution_count": 26,
   "metadata": {},
   "outputs": [],
   "source": [
    "def get_local_1_skeleton(word, epsilon, dist_f):\n",
    "    vertex_id = df.index[df[0] == word][0]\n",
    "    vertex_vector = vertices[vertex_id]\n",
    "    nbrs = [i for i, vect in enumerate(vertices) if dist_f(vertex_vector, vect) <= epsilon]\n",
    "    \n",
    "    skeleton_1 = nx.Graph()\n",
    "    for nbr in nbrs:\n",
    "        skeleton_1.add_node(nbr, word = df[0][nbr], distance=dist_f(vertex_vector, vertices[nbr]))\n",
    "    skeleton_1.add_edges_from([(vertex_id, nbr) for nbr in nbrs])\n",
    "    \n",
    "    manager = DatasetManager(vertices=vertices,\n",
    "                             centers_num=lambda x: int(math.sqrt(x)),\n",
    "                             distance_funct=dist_f,\n",
    "                             epsilon=epsilon)\n",
    "    manager.get_centers_ready()\n",
    "    _, _, local_vr = manager.report_on_vertex(vertex_id)\n",
    "    triangles = [simplex for simplex in local_vr if len(simplex) == 3]\n",
    "    edges = [tuple(simplex.difference({vertex_id})) for simplex in triangles]\n",
    "    skeleton_1.add_edges_from(edges)\n",
    "    return skeleton_1"
   ]
  },
  {
   "cell_type": "code",
   "execution_count": 5,
   "metadata": {},
   "outputs": [],
   "source": [
    "def arccosdist(vect1, vect2):\n",
    "    if (vect1 == vect2).all():\n",
    "        return 0\n",
    "    return math.degrees(np.arccos(1 - dist.cosine(vect1, vect2)))"
   ]
  },
  {
   "cell_type": "code",
   "execution_count": 6,
   "metadata": {},
   "outputs": [],
   "source": [
    "def visualise_1_skeleton(skeleton, title, fname):\n",
    "    pos = nx.spring_layout(skeleton)\n",
    "    \n",
    "    dmin=1\n",
    "    ncenter=0\n",
    "    for n in pos:\n",
    "        x, y = pos[n]\n",
    "        d = (x - 0.5) ** 2 + (y - 0.5) ** 2\n",
    "        if d < dmin:\n",
    "            ncenter = n\n",
    "            dmin = d\n",
    "\n",
    "    p = nx.single_source_shortest_path_length(skeleton, ncenter)\n",
    "    edge_trace = Scatter(\n",
    "        x=[],\n",
    "        y=[],\n",
    "        line=Line(width=0.5, color='#888'),\n",
    "        hoverinfo='none',\n",
    "        mode='lines')\n",
    "\n",
    "    for edge in skeleton.edges():\n",
    "        x0, y0 = pos[edge[0]]\n",
    "        x1, y1 = pos[edge[1]]\n",
    "        edge_trace['x'] += [x0, x1, None]\n",
    "        edge_trace['y'] += [y0, y1, None]\n",
    "\n",
    "    node_trace = Scatter(\n",
    "        x=[],\n",
    "        y=[],\n",
    "        text=[],\n",
    "        mode='markers',\n",
    "        hoverinfo='text',\n",
    "        marker=Marker(\n",
    "            showscale=True,\n",
    "            # colorscale options\n",
    "            # 'Greys' | 'Greens' | 'Bluered' | 'Hot' | 'Picnic' | 'Portland' |\n",
    "            # Jet' | 'RdBu' | 'Blackbody' | 'Earth' | 'Electric' | 'YIOrRd' | 'YIGnBu'\n",
    "            colorscale='YIGnBu',\n",
    "            reversescale=True,\n",
    "            color=[],\n",
    "            size=10,\n",
    "            colorbar=dict(\n",
    "                thickness=15,\n",
    "                title='Distance from the word',\n",
    "                xanchor='left',\n",
    "                titleside='right'\n",
    "            ),\n",
    "            line=dict(width=2)))\n",
    "    max_dist = max([data['distance'] for _, data in skeleton.nodes(data=True)])\n",
    "    for node, data in skeleton.nodes(data=True):\n",
    "        x, y = pos[node]\n",
    "        node_trace['x'].append(x)\n",
    "        node_trace['y'].append(y)\n",
    "        node_trace['marker']['color'].append(data['distance'] or max_dist + 1)\n",
    "        node_trace['text'].append(\"{0}, distance: {1}\".format(data['word'], round(data['distance'], 3)))\n",
    "    \n",
    "    fig = Figure(data=Data([edge_trace, node_trace]),\n",
    "                 layout=Layout(\n",
    "                    title=title,\n",
    "                    titlefont=dict(size=16),\n",
    "                    showlegend=False,\n",
    "                    hovermode='closest',\n",
    "                    margin=dict(b=20,l=5,r=5,t=40),\n",
    "                    xaxis=XAxis(showgrid=False, zeroline=False, showticklabels=False),\n",
    "                    yaxis=YAxis(showgrid=False, zeroline=False, showticklabels=False)))\n",
    "\n",
    "    py.plot(fig, filename=fname)"
   ]
  },
  {
   "cell_type": "code",
   "execution_count": 27,
   "metadata": {},
   "outputs": [],
   "source": []
  },
  {
   "cell_type": "code",
   "execution_count": 77,
   "metadata": {},
   "outputs": [],
   "source": [
    "word = 'corporation'\n",
    "vertex_id = df.index[df[0] == word][0]\n",
    "epsilon = 76\n",
    "net = get_local_1_skeleton(word, epsilon, arccosdist)\n",
    "net.remove_node(vertex_id)\n",
    "visualise_1_skeleton(net, \n",
    "                     title='Local 1-skeleton of word \"{0}\" (word2vec, {1})'.format(word, epsilon), \n",
    "                     fname='{0}_word2vec_{1}'.format(word, epsilon))"
   ]
  },
  {
   "cell_type": "code",
   "execution_count": 35,
   "metadata": {},
   "outputs": [],
   "source": [
    "manager = DatasetManager(vertices=vertices,\n",
    "                         centers_num=lambda x: int(math.sqrt(x)),\n",
    "                         distance_funct=arccosdist,\n",
    "                         epsilon=epsilon)\n",
    "manager.get_centers_ready()"
   ]
  },
  {
   "cell_type": "code",
   "execution_count": 36,
   "metadata": {},
   "outputs": [],
   "source": [
    "simplex_counter, operator_counter, local_vr = manager.report_on_vertex(76)"
   ]
  },
  {
   "cell_type": "code",
   "execution_count": 37,
   "metadata": {},
   "outputs": [
    {
     "data": {
      "text/plain": [
       "Counter({0: 1, 1: 14, 2: 21, 3: 7})"
      ]
     },
     "execution_count": 37,
     "metadata": {},
     "output_type": "execute_result"
    }
   ],
   "source": [
    "simplex_counter"
   ]
  },
  {
   "cell_type": "code",
   "execution_count": 38,
   "metadata": {},
   "outputs": [],
   "source": [
    "local_vr_words = [{df[0][node] for node in simplex} for simplex in local_vr]"
   ]
  },
  {
   "cell_type": "code",
   "execution_count": 53,
   "metadata": {},
   "outputs": [
    {
     "data": {
      "text/plain": [
       "[{'bank', 'corporation', 'firm'},\n",
       " {'bank', 'corporation', 'fund'},\n",
       " {'bank', 'corporation', 'institution'},\n",
       " {'bank', 'branch', 'institution'},\n",
       " {'bank', 'corporation', 'depository'},\n",
       " {'bank', 'branch', 'depository'},\n",
       " {'bank', 'depository', 'transaction'},\n",
       " {'bank', 'depository', 'institution'},\n",
       " {'bank', 'branch', 'store'},\n",
       " {'bank', 'branch', 'supermarket'},\n",
       " {'bank', 'store', 'supermarket'},\n",
       " {'bank', 'institution', 'thrift'},\n",
       " {'bank', 'fund', 'treasury'},\n",
       " {'bank', 'depository', 'treasury'},\n",
       " {'bank', 'fund', 'savings'},\n",
       " {'bank', 'savings', 'thrift'},\n",
       " {'bank', 'savings', 'treasury'},\n",
       " {'bank', 'branch', 'deposit'},\n",
       " {'bank', 'deposit', 'depository'},\n",
       " {'bank', 'deposit', 'treasury'},\n",
       " {'bank', 'deposit', 'savings'}]"
      ]
     },
     "execution_count": 53,
     "metadata": {},
     "output_type": "execute_result"
    }
   ],
   "source": [
    "[x for x in local_vr_words if len(x) == 3]"
   ]
  }
 ],
 "metadata": {
  "kernelspec": {
   "display_name": "Python 3",
   "language": "python",
   "name": "python3"
  },
  "language_info": {
   "codemirror_mode": {
    "name": "ipython",
    "version": 3
   },
   "file_extension": ".py",
   "mimetype": "text/x-python",
   "name": "python",
   "nbconvert_exporter": "python",
   "pygments_lexer": "ipython3",
   "version": "3.6.4"
  }
 },
 "nbformat": 4,
 "nbformat_minor": 2
}
